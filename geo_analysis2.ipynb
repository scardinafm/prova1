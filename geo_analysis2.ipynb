{
 "cells": [
  {
   "cell_type": "code",
   "execution_count": 3,
   "metadata": {
    "collapsed": false,
    "nbpresent": {
     "id": "a8e3a49d-a1e5-4dc6-ac66-ea08641275c4"
    }
   },
   "outputs": [],
   "source": [
    "import pandas as pd\n",
    "import create_hist_mod as ch\n",
    "from scipy.stats.stats import pearsonr"
   ]
  },
  {
   "cell_type": "code",
   "execution_count": 4,
   "metadata": {
    "collapsed": false,
    "nbpresent": {
     "id": "bc16862b-4085-4d9b-8e26-8faf4a62492b"
    }
   },
   "outputs": [],
   "source": [
    "post_code_mapping=pd.read_excel('Postcode mapping - Oct 2016.xlsx')\n",
    "list_post_codes=post_code_mapping['Postcode']"
   ]
  },
  {
   "cell_type": "code",
   "execution_count": 5,
   "metadata": {
    "collapsed": false,
    "nbpresent": {
     "id": "7d451868-ca4f-4ce3-916e-a92c3e810b42"
    }
   },
   "outputs": [
    {
     "name": "stdout",
     "output_type": "stream",
     "text": [
      "shape of created dataframe  (742707, 1)\n"
     ]
    }
   ],
   "source": [
    "# In metod creating_dataframe_from_database_querying the first argument has to be an SQL query\n",
    "#and the second argument a database name\n",
    "database_name='raisers_edge_data.db'\n",
    "query='''select POST_CODE from Analysis_Address_View ;'''\n",
    "df_address_view_post_code=ch.creating_dataframe_from_database_querying(query,database_name,return_shape=True)"
   ]
  },
  {
   "cell_type": "code",
   "execution_count": 49,
   "metadata": {
    "collapsed": false,
    "nbpresent": {
     "id": "48f8b1ec-b507-450f-8fcf-c2d873f7948f"
    }
   },
   "outputs": [
    {
     "data": {
      "text/plain": [
       "dtype('int64')"
      ]
     },
     "execution_count": 49,
     "metadata": {},
     "output_type": "execute_result"
    }
   ],
   "source": [
    "def split_post_code(x): \n",
    "    x_aus=0\n",
    "    try:\n",
    "        x_aus=int(x)\n",
    "    except Exception:\n",
    "        pass\n",
    "    return x_aus\n",
    "series_post_codes=df_address_view_post_code['POST_CODE'].apply(lambda x : split_post_code(x))\n",
    "#series_post_codes=df_address_view_post_code['POST_CODE'].apply(lambda x : int(x))\n",
    "series_post_codes.dtypes"
   ]
  },
  {
   "cell_type": "code",
   "execution_count": 7,
   "metadata": {
    "collapsed": false,
    "nbpresent": {
     "id": "46fd1530-7488-41bc-a050-43eff722bb04"
    }
   },
   "outputs": [
    {
     "name": "stdout",
     "output_type": "stream",
     "text": [
      "dictionary lenght  2872\n",
      "percentage of not matches found = 6.166671669761438\n",
      "not_sorted_dataframe    post_codes  num_address\n",
      "0       SG19          343\n",
      "1        MK6          155\n",
      "2        B80          132\n",
      "3        IG8          595\n",
      "4        CH1          280\n",
      "--------------------------\n",
      "sorted_dataframe       post_codes  num_address\n",
      "1481       SW19         1565\n",
      "1516        CR0         1401\n",
      "2000        SL6         1396\n",
      "2170        BA2         1372\n",
      "1564       SW18         1351\n"
     ]
    }
   ],
   "source": [
    "# In metod creating_empty_dictionary first argument has to be a panda series\n",
    "dictionary_post_codes=ch.creating_empty_dictionary(list_post_codes,return_dictionary_lenght=True)\n",
    "bin_names='post_codes'\n",
    "num_objects='num_address'\n",
    "df_address=ch.counting_number_of_object_in_dataframe_per_bin_values(series_post_codes,\\\n",
    "    dictionary_post_codes,bin_names,num_objects,return_corrispondence_not_found=True,\\\n",
    "    return_head_dataframe_from_dict=True)"
   ]
  },
  {
   "cell_type": "code",
   "execution_count": 8,
   "metadata": {
    "collapsed": false,
    "nbpresent": {
     "id": "804a4222-e801-4f0b-91f9-59565e2e68d2"
    }
   },
   "outputs": [
    {
     "data": {
      "image/png": "[encoded data removed]",
      "text/plain": [
       "<matplotlib.figure.Figure at 0x2465175c6a0>"
      ]
     },
     "metadata": {},
     "output_type": "display_data"
    }
   ],
   "source": [
    "%matplotlib inline\n",
    "import matplotlib.pyplot as plt\n",
    "plt.hist(df_address['num_address'],bins=50)\n",
    "plt.show()"
   ]
  },
  {
   "cell_type": "code",
   "execution_count": 9,
   "metadata": {
    "collapsed": false
   },
   "outputs": [
    {
     "name": "stdout",
     "output_type": "stream",
     "text": [
      "shape of created dataframe  (37218, 2)\n"
     ]
    }
   ],
   "source": [
    "# In metod creating_dataframe_from_database_querying the first argument has to be an SQL query\n",
    "#and the second argument a database name\n",
    "database_name='raisers_edge_data.db'\n",
    "query='''select Analysis_Membership_View.CONSTITUENT_ID,Analysis_Address_View.POST_CODE \n",
    "from Analysis_Membership_View \n",
    "left join  Analysis_Address_View \n",
    "on Analysis_Membership_View.CONSTITUENT_ID\n",
    "=Analysis_Address_View.CONSTITUENT_ID \n",
    "where Analysis_Membership_View.Current_Standing != 'Dropped' ; '''\n",
    "df_membership_view_post_code=ch.creating_dataframe_from_database_querying(query,database_name,return_shape=True)"
   ]
  },
  {
   "cell_type": "code",
   "execution_count": 10,
   "metadata": {
    "collapsed": false
   },
   "outputs": [
    {
     "data": {
      "text/plain": [
       "(37218,)"
      ]
     },
     "execution_count": 10,
     "metadata": {},
     "output_type": "execute_result"
    }
   ],
   "source": [
    "series_post_codes=df_membership_view_post_code['POST_CODE'].apply(lambda x : split_post_code(x))\n",
    "series_post_codes.shape"
   ]
  },
  {
   "cell_type": "code",
   "execution_count": 11,
   "metadata": {
    "collapsed": false
   },
   "outputs": [
    {
     "name": "stdout",
     "output_type": "stream",
     "text": [
      "dictionary lenght  2872\n",
      "percentage of not matches found = 0.4182068370072579\n",
      "not_sorted_dataframe    post_codes  num_members\n",
      "0       SG19           25\n",
      "1        MK6            5\n",
      "2        B80           10\n",
      "3        IG8           30\n",
      "4        CH1           11\n",
      "--------------------------\n",
      "sorted_dataframe       post_codes  num_members\n",
      "1599       RG14           86\n",
      "2140       LE10           83\n",
      "2170        BA2           82\n",
      "1215       BH23           80\n",
      "793         SN3           79\n"
     ]
    }
   ],
   "source": [
    "# In metod creating_empty_dictionary first argument has to be a panda series\n",
    "dictionary_post_codes=ch.creating_empty_dictionary(list_post_codes,return_dictionary_lenght=True)\n",
    "bin_names='post_codes'\n",
    "num_objects='num_members'\n",
    "df_members=ch.counting_number_of_object_in_dataframe_per_bin_values(series_post_codes,\\\n",
    "    dictionary_post_codes,bin_names,num_objects,return_corrispondence_not_found=True,\\\n",
    "    return_head_dataframe_from_dict=True)"
   ]
  },
  {
   "cell_type": "code",
   "execution_count": 12,
   "metadata": {
    "collapsed": false
   },
   "outputs": [
    {
     "data": {
      "image/png": "[encoded data removed]",
      "text/plain": [
       "<matplotlib.figure.Figure at 0x246578e8e10>"
      ]
     },
     "metadata": {},
     "output_type": "display_data"
    }
   ],
   "source": [
    "%matplotlib inline\n",
    "import matplotlib.pyplot as plt\n",
    "plt.hist(df_members['num_members'],bins=50)\n",
    "plt.show()"
   ]
  },
  {
   "cell_type": "code",
   "execution_count": 13,
   "metadata": {
    "collapsed": false
   },
   "outputs": [
    {
     "name": "stdout",
     "output_type": "stream",
     "text": [
      "shape of created dataframe  (3646303, 2)\n"
     ]
    }
   ],
   "source": [
    "# In metod creating_dataframe_from_database_querying the first argument has to be an SQL query\n",
    "#and the second argument a database name\n",
    "database_name='raisers_edge_data.db'\n",
    "query='''select Analysis_Gift_Split_View.CONSTITUENT_ID, \n",
    "Analysis_Address_View.POST_CODE \n",
    "from Analysis_Gift_Split_View\n",
    "left join  Analysis_Address_View \n",
    "on Analysis_Gift_Split_View.CONSTITUENT_ID\n",
    "=Analysis_Address_View.CONSTITUENT_ID ; '''\n",
    "df_gift_view_post_code=ch.creating_dataframe_from_database_querying(query,database_name,return_shape=True)"
   ]
  },
  {
   "cell_type": "code",
   "execution_count": 14,
   "metadata": {
    "collapsed": false
   },
   "outputs": [
    {
     "data": {
      "text/plain": [
       "(3646303,)"
      ]
     },
     "execution_count": 14,
     "metadata": {},
     "output_type": "execute_result"
    }
   ],
   "source": [
    "series_post_codes=df_gift_view_post_code['POST_CODE'].apply(lambda x : split_post_code(x))\n",
    "series_post_codes.shape"
   ]
  },
  {
   "cell_type": "code",
   "execution_count": 15,
   "metadata": {
    "collapsed": false
   },
   "outputs": [
    {
     "name": "stdout",
     "output_type": "stream",
     "text": [
      "dictionary lenght  2872\n",
      "percentage of not matches found = 6.624279775704083\n",
      "not_sorted_dataframe    post_codes  num_gift\n",
      "0       SG19      1297\n",
      "1        MK6       699\n",
      "2        B80       427\n",
      "3        IG8      2733\n",
      "4        CH1      1101\n",
      "--------------------------\n",
      "sorted_dataframe       post_codes  num_gift\n",
      "2062       SW1V    349546\n",
      "2000        SL6      6293\n",
      "1215       BH23      5784\n",
      "1481       SW19      5557\n",
      "2170        BA2      5433\n"
     ]
    }
   ],
   "source": [
    "# In metod creating_empty_dictionary first argument has to be a panda series\n",
    "dictionary_post_codes=ch.creating_empty_dictionary(list_post_codes,return_dictionary_lenght=True)\n",
    "bin_names='post_codes'\n",
    "num_objects='num_gift'\n",
    "df_gift=ch.counting_number_of_object_in_dataframe_per_bin_values(series_post_codes,\\\n",
    "    dictionary_post_codes,bin_names,num_objects,return_corrispondence_not_found=True,\\\n",
    "    return_head_dataframe_from_dict=True)\n"
   ]
  },
  {
   "cell_type": "code",
   "execution_count": 16,
   "metadata": {
    "collapsed": false
   },
   "outputs": [
    {
     "name": "stdout",
     "output_type": "stream",
     "text": [
      "2062 SW1V 349546\n",
      "2062 SW1V 3495\n"
     ]
    },
    {
     "name": "stderr",
     "output_type": "stream",
     "text": [
      "C:\\Users\\Francesco\\Anaconda3\\lib\\site-packages\\pandas\\core\\indexing.py:132: SettingWithCopyWarning: \n",
      "A value is trying to be set on a copy of a slice from a DataFrame\n",
      "\n",
      "See the caveats in the documentation: http://pandas.pydata.org/pandas-docs/stable/indexing.html#indexing-view-versus-copy\n",
      "  self._setitem_with_indexer(indexer, value)\n"
     ]
    }
   ],
   "source": [
    "for i,j  in enumerate(df_gift['post_codes']):\n",
    "    if j=='SW1V':\n",
    "        print(i,j,df_gift['num_gift'].iloc[i])\n",
    "#print(df_gift['num_gift'].iloc[i])\n",
    "        df_gift['num_gift'].iloc[i]=int(df_gift['num_gift'].iloc[i]/100.0)\n",
    "for i,j  in enumerate(df_gift['post_codes']):\n",
    "    if j=='SW1V':\n",
    "        print(i,j,df_gift['num_gift'].iloc[i])"
   ]
  },
  {
   "cell_type": "code",
   "execution_count": 17,
   "metadata": {
    "collapsed": false
   },
   "outputs": [
    {
     "data": {
      "image/png": "[encoded data removed]",
      "text/plain": [
       "<matplotlib.figure.Figure at 0x24659e62e80>"
      ]
     },
     "metadata": {},
     "output_type": "display_data"
    }
   ],
   "source": [
    "%matplotlib inline\n",
    "import matplotlib.pyplot as plt\n",
    "plt.hist(df_gift['num_gift'],bins=50)\n",
    "#plt.gca().set_xscale(\"log\")\n",
    "plt.show()"
   ]
  },
  {
   "cell_type": "code",
   "execution_count": 18,
   "metadata": {
    "collapsed": false
   },
   "outputs": [
    {
     "name": "stdout",
     "output_type": "stream",
     "text": [
      "shape of created dataframe  (4551, 2)\n"
     ]
    }
   ],
   "source": [
    "# In metod creating_dataframe_from_database_querying the first argument has to be an SQL query\n",
    "#and the second argument a database name\n",
    "database_name='raisers_edge_data.db'\n",
    "query='''select Analysis_Volunteer_Types_View.CONSTITUENT_ID, \n",
    "Analysis_Address_View.POST_CODE \n",
    "from Analysis_Volunteer_Types_View\n",
    "left join  Analysis_Address_View \n",
    "on Analysis_Volunteer_Types_View.CONSTITUENT_ID\n",
    "=Analysis_Address_View.CONSTITUENT_ID \n",
    "where Analysis_Volunteer_Types_View.Status_Desc== 'Active'; '''\n",
    "df_volunteers_view_post_code=ch.creating_dataframe_from_database_querying(query,database_name,return_shape=True)"
   ]
  },
  {
   "cell_type": "code",
   "execution_count": 19,
   "metadata": {
    "collapsed": false
   },
   "outputs": [
    {
     "data": {
      "text/plain": [
       "(4551,)"
      ]
     },
     "execution_count": 19,
     "metadata": {},
     "output_type": "execute_result"
    }
   ],
   "source": [
    "series_post_codes=df_volunteers_view_post_code['POST_CODE'].apply(lambda x : split_post_code(x))\n",
    "series_post_codes.shape"
   ]
  },
  {
   "cell_type": "code",
   "execution_count": 20,
   "metadata": {
    "collapsed": false
   },
   "outputs": [
    {
     "name": "stdout",
     "output_type": "stream",
     "text": [
      "dictionary lenght  2872\n",
      "percentage of not matches found = 0.3306878306878307\n",
      "not_sorted_dataframe    post_codes  num_volunteers\n",
      "0       SG19               0\n",
      "1        MK6               0\n",
      "2        B80               0\n",
      "3        IG8               1\n",
      "4        CH1               1\n",
      "--------------------------\n",
      "sorted_dataframe       post_codes  num_volunteers\n",
      "407        EX39              18\n",
      "2140       LE10              17\n",
      "2104       NE34              17\n",
      "787        BT47              16\n",
      "1120       PE11              16\n"
     ]
    }
   ],
   "source": [
    "# In metod creating_empty_dictionary first argument has to be a panda series\n",
    "dictionary_post_codes=ch.creating_empty_dictionary(list_post_codes,return_dictionary_lenght=True)\n",
    "bin_names='post_codes'\n",
    "num_objects='num_volunteers'\n",
    "df_volunteers=ch.counting_number_of_object_in_dataframe_per_bin_values(series_post_codes,\\\n",
    "    dictionary_post_codes,bin_names,num_objects,return_corrispondence_not_found=True,\\\n",
    "    return_head_dataframe_from_dict=True)"
   ]
  },
  {
   "cell_type": "code",
   "execution_count": 21,
   "metadata": {
    "collapsed": false
   },
   "outputs": [
    {
     "data": {
      "image/png": "[encoded data removed]",
      "text/plain": [
       "<matplotlib.figure.Figure at 0x2467be13e10>"
      ]
     },
     "metadata": {},
     "output_type": "display_data"
    }
   ],
   "source": [
    "%matplotlib inline\n",
    "import matplotlib.pyplot as plt\n",
    "plt.hist(df_volunteers['num_volunteers'],bins=50)\n",
    "plt.show()"
   ]
  },
  {
   "cell_type": "code",
   "execution_count": 22,
   "metadata": {
    "collapsed": false
   },
   "outputs": [
    {
     "data": {
      "text/plain": [
       "<matplotlib.collections.PathCollection at 0x246000d42e8>"
      ]
     },
     "execution_count": 22,
     "metadata": {},
     "output_type": "execute_result"
    },
    {
     "data": {
      "image/png": "[encoded data removed]",
      "text/plain": [
       "<matplotlib.figure.Figure at 0x246129683c8>"
      ]
     },
     "metadata": {},
     "output_type": "display_data"
    }
   ],
   "source": [
    "plt.scatter(df_members['num_members'],df_gift['num_gift'])"
   ]
  },
  {
   "cell_type": "code",
   "execution_count": 23,
   "metadata": {
    "collapsed": false
   },
   "outputs": [
    {
     "name": "stdout",
     "output_type": "stream",
     "text": [
      "correlation_coefficent 0.843003414662\n"
     ]
    }
   ],
   "source": [
    "r, p_value = pearsonr(df_members['num_members'],df_gift['num_gift'])\n",
    "print('correlation_coefficent', r)"
   ]
  },
  {
   "cell_type": "code",
   "execution_count": 24,
   "metadata": {
    "collapsed": false
   },
   "outputs": [
    {
     "data": {
      "text/plain": [
       "<matplotlib.collections.PathCollection at 0x24600120d68>"
      ]
     },
     "execution_count": 24,
     "metadata": {},
     "output_type": "execute_result"
    },
    {
     "data": {
      "image/png": "[encoded data removed]",
      "text/plain": [
       "<matplotlib.figure.Figure at 0x246000ea8d0>"
      ]
     },
     "metadata": {},
     "output_type": "display_data"
    }
   ],
   "source": [
    "plt.scatter(df_volunteers['num_volunteers'],df_gift['num_gift'])"
   ]
  },
  {
   "cell_type": "code",
   "execution_count": 25,
   "metadata": {
    "collapsed": false
   },
   "outputs": [
    {
     "name": "stdout",
     "output_type": "stream",
     "text": [
      "correlation_coefficent 0.490036538644\n"
     ]
    }
   ],
   "source": [
    "r, p_value = pearsonr(df_volunteers['num_volunteers'],df_gift['num_gift'])\n",
    "print('correlation_coefficent', r)"
   ]
  },
  {
   "cell_type": "code",
   "execution_count": 26,
   "metadata": {
    "collapsed": false
   },
   "outputs": [
    {
     "data": {
      "text/plain": [
       "<matplotlib.collections.PathCollection at 0x24600165ac8>"
      ]
     },
     "execution_count": 26,
     "metadata": {},
     "output_type": "execute_result"
    },
    {
     "data": {
      "image/png": "[encoded data removed]",
      "text/plain": [
       "<matplotlib.figure.Figure at 0x24600131390>"
      ]
     },
     "metadata": {},
     "output_type": "display_data"
    }
   ],
   "source": [
    "plt.scatter(df_volunteers['num_volunteers'],df_members['num_members'])"
   ]
  },
  {
   "cell_type": "code",
   "execution_count": 27,
   "metadata": {
    "collapsed": false
   },
   "outputs": [
    {
     "name": "stdout",
     "output_type": "stream",
     "text": [
      "correlation_coefficent 0.607942109628\n"
     ]
    }
   ],
   "source": [
    "r, p_value = pearsonr(df_volunteers['num_volunteers'],df_members['num_members'])\n",
    "print('correlation_coefficent', r)"
   ]
  },
  {
   "cell_type": "code",
   "execution_count": 28,
   "metadata": {
    "collapsed": true
   },
   "outputs": [],
   "source": [
    "import pickle\n",
    "documents_f = open(\"Mosaic_dataframe.pickle\", \"rb\") ####\n",
    "df_mosaic = pickle.load(documents_f)\n",
    "documents_f.close()"
   ]
  },
  {
   "cell_type": "code",
   "execution_count": 29,
   "metadata": {
    "collapsed": false
   },
   "outputs": [
    {
     "data": {
      "text/plain": [
       "(166706, 40)"
      ]
     },
     "execution_count": 29,
     "metadata": {},
     "output_type": "execute_result"
    }
   ],
   "source": [
    "df_mosaic.shape"
   ]
  },
  {
   "cell_type": "code",
   "execution_count": 30,
   "metadata": {
    "collapsed": false
   },
   "outputs": [
    {
     "name": "stdout",
     "output_type": "stream",
     "text": [
      "['TC_Customer Number', 'TC_Name1', 'TC_Name', 'TC_Address1', 'TC_Address2', 'TC_Address3', 'TC_Post Town', 'TC_County', 'TC_Postcode', 'TC_Postal Sector', 'TC_Original Source_Description', 'TC_Original Source Grouping', 'TC_Source_Code', 'TC_Source Grouping', 'TC_Date Added', 'TC_Email', 'TC_Status Flag_Deceased', 'TC_Status Flag_Goneaway', 'TC_Status Flag_No Mail', 'TC_Third Party Status Flag', 'TC_Email Flag', 'TC_Salutation', 'TC_Job Title', 'TC_Telephone', 'TC_Alt Account Number', 'TC_Most Recent RE Constituent ID', 'TO_Order Number', 'TO_Media_Code', 'TO_Media_Description', 'TO_Media Grouping', 'TO_Order Date', 'TO_Order Source', 'TO_Postage', 'TOD_Product_Code', 'TOD_Product_Description', 'TOD_Product Sub Category', 'TOD_Product Category', 'TOD_Quantity', 'TOD_Net Value', 'TOD_VAT']\n"
     ]
    }
   ],
   "source": [
    "list_columns=list(df_mosaic.columns.values)\n",
    "print(list_columns)"
   ]
  },
  {
   "cell_type": "code",
   "execution_count": 31,
   "metadata": {
    "collapsed": false
   },
   "outputs": [
    {
     "data": {
      "text/html": [
       "<div>\n",
       "<table border=\"1\" class=\"dataframe\">\n",
       "  <thead>\n",
       "    <tr style=\"text-align: right;\">\n",
       "      <th></th>\n",
       "      <th>TC_Post Town</th>\n",
       "      <th>TC_Postcode</th>\n",
       "      <th>TC_Postal Sector</th>\n",
       "    </tr>\n",
       "  </thead>\n",
       "  <tbody>\n",
       "    <tr>\n",
       "      <th>0</th>\n",
       "      <td>Unclassified</td>\n",
       "      <td>EX5 3BL</td>\n",
       "      <td>EX 5 3</td>\n",
       "    </tr>\n",
       "    <tr>\n",
       "      <th>1</th>\n",
       "      <td>Unclassified</td>\n",
       "      <td>EX5 3BL</td>\n",
       "      <td>EX 5 3</td>\n",
       "    </tr>\n",
       "    <tr>\n",
       "      <th>2</th>\n",
       "      <td>Unclassified</td>\n",
       "      <td>EX5 3BL</td>\n",
       "      <td>EX 5 3</td>\n",
       "    </tr>\n",
       "    <tr>\n",
       "      <th>3</th>\n",
       "      <td>Unclassified</td>\n",
       "      <td>PE25 1HR</td>\n",
       "      <td>PE25 1</td>\n",
       "    </tr>\n",
       "    <tr>\n",
       "      <th>4</th>\n",
       "      <td>SURREY</td>\n",
       "      <td>GU24 9HU</td>\n",
       "      <td>GU24 9</td>\n",
       "    </tr>\n",
       "  </tbody>\n",
       "</table>\n",
       "</div>"
      ],
      "text/plain": [
       "   TC_Post Town TC_Postcode TC_Postal Sector\n",
       "0  Unclassified     EX5 3BL           EX 5 3\n",
       "1  Unclassified     EX5 3BL           EX 5 3\n",
       "2  Unclassified     EX5 3BL           EX 5 3\n",
       "3  Unclassified    PE25 1HR           PE25 1\n",
       "4        SURREY    GU24 9HU           GU24 9"
      ]
     },
     "execution_count": 31,
     "metadata": {},
     "output_type": "execute_result"
    }
   ],
   "source": [
    "df_mosaic[['TC_Post Town','TC_Postcode','TC_Postal Sector']].head()"
   ]
  },
  {
   "cell_type": "code",
   "execution_count": 32,
   "metadata": {
    "collapsed": false
   },
   "outputs": [
    {
     "data": {
      "text/plain": [
       "(166706,)"
      ]
     },
     "execution_count": 32,
     "metadata": {},
     "output_type": "execute_result"
    }
   ],
   "source": [
    "series_post_codes=df_mosaic['TC_Postcode'].apply(lambda x : split_post_code(str(x)))\n",
    "series_post_codes.shape"
   ]
  },
  {
   "cell_type": "code",
   "execution_count": 33,
   "metadata": {
    "collapsed": false
   },
   "outputs": [
    {
     "name": "stdout",
     "output_type": "stream",
     "text": [
      "dictionary lenght  2872\n",
      "percentage of not matches found = 0.42530120481927713\n",
      "not_sorted_dataframe    post_codes  num_operations\n",
      "0       SG19             122\n",
      "1        MK6              17\n",
      "2        B80              19\n",
      "3        IG8             132\n",
      "4        CH1              46\n",
      "--------------------------\n",
      "sorted_dataframe       post_codes  num_operations\n",
      "2062       SW1V             735\n",
      "2522       RG19             457\n",
      "2389       BS16             410\n",
      "1829       CF14             370\n",
      "2573       CA13             367\n"
     ]
    }
   ],
   "source": [
    "# In metod creating_empty_dictionary first argument has to be a panda series\n",
    "dictionary_post_codes=ch.creating_empty_dictionary(list_post_codes,return_dictionary_lenght=True)\n",
    "bin_names='post_codes'\n",
    "num_objects='num_operations'\n",
    "df_mosaic_new=ch.counting_number_of_object_in_dataframe_per_bin_values(series_post_codes,\\\n",
    "    dictionary_post_codes,bin_names,num_objects,return_corrispondence_not_found=True,\\\n",
    "    return_head_dataframe_from_dict=True)"
   ]
  },
  {
   "cell_type": "code",
   "execution_count": 34,
   "metadata": {
    "collapsed": false
   },
   "outputs": [
    {
     "data": {
      "image/png": "[encoded data removed]",
      "text/plain": [
       "<matplotlib.figure.Figure at 0x24612968198>"
      ]
     },
     "metadata": {},
     "output_type": "display_data"
    }
   ],
   "source": [
    "%matplotlib inline\n",
    "import matplotlib.pyplot as plt\n",
    "plt.hist(df_mosaic_new['num_operations'],bins=50)\n",
    "plt.show()"
   ]
  },
  {
   "cell_type": "code",
   "execution_count": 35,
   "metadata": {
    "collapsed": false
   },
   "outputs": [
    {
     "data": {
      "text/plain": [
       "<matplotlib.collections.PathCollection at 0x24603c31278>"
      ]
     },
     "execution_count": 35,
     "metadata": {},
     "output_type": "execute_result"
    },
    {
     "data": {
      "image/png": "[encoded data removed]",
      "text/plain": [
       "<matplotlib.figure.Figure at 0x2460012fa20>"
      ]
     },
     "metadata": {},
     "output_type": "display_data"
    }
   ],
   "source": [
    "plt.scatter(df_members['num_members'],df_mosaic_new['num_operations'])"
   ]
  },
  {
   "cell_type": "code",
   "execution_count": 36,
   "metadata": {
    "collapsed": false
   },
   "outputs": [
    {
     "name": "stdout",
     "output_type": "stream",
     "text": [
      "correlation_coefficent 0.711552461977\n"
     ]
    }
   ],
   "source": [
    "r, p_value = pearsonr(df_members['num_members'],df_mosaic_new['num_operations'])\n",
    "print('correlation_coefficent', r)"
   ]
  },
  {
   "cell_type": "code",
   "execution_count": 37,
   "metadata": {
    "collapsed": false
   },
   "outputs": [],
   "source": [
    "df_CDL=pd.read_excel(\"CDL_data.xlsx\")\n",
    "#df_CDL = pd.read_excell(d=\",\",encoding = \"ISO-8859-1\")"
   ]
  },
  {
   "cell_type": "code",
   "execution_count": 38,
   "metadata": {
    "collapsed": false
   },
   "outputs": [
    {
     "name": "stdout",
     "output_type": "stream",
     "text": [
      "['OrderNumber', 'OrderDate', 'SalesChannel', 'Item', 'ItemName', 'QTYORDERED', 'ContactPersonName', 'DELIVERYNAME', 'DeliveryAddressLine1', 'DeliveryAddressLine2', 'DeliveryAddressLine3', 'DeliveryAddressLine4', 'DELIVERYCITY', 'DELIVERYCOUNTY', 'DELIVERYSTATE', 'DeliveryPostcode', 'DeliveryCountry', 'Email', 'PHONE', 'Unnamed: 19', 'Unnamed: 20', 'Unnamed: 21']\n"
     ]
    }
   ],
   "source": [
    "list_columns=list(df_CDL.columns.values)\n",
    "print(list_columns)"
   ]
  },
  {
   "cell_type": "code",
   "execution_count": 39,
   "metadata": {
    "collapsed": false
   },
   "outputs": [
    {
     "data": {
      "text/plain": [
       "0     PO9 3BQ\n",
       "1     PO9 3BQ\n",
       "2     PO9 3BQ\n",
       "3     PO9 3BQ\n",
       "4     BS4 5DY\n",
       "5     BS4 5DY\n",
       "6     BS4 5DY\n",
       "7    BS15 3TN\n",
       "8    BS15 3TN\n",
       "9    BS15 3TN\n",
       "Name: DeliveryPostcode, dtype: object"
      ]
     },
     "execution_count": 39,
     "metadata": {},
     "output_type": "execute_result"
    }
   ],
   "source": [
    "df_CDL['DeliveryPostcode'].head(10)"
   ]
  },
  {
   "cell_type": "code",
   "execution_count": 40,
   "metadata": {
    "collapsed": false
   },
   "outputs": [
    {
     "data": {
      "text/plain": [
       "(227123,)"
      ]
     },
     "execution_count": 40,
     "metadata": {},
     "output_type": "execute_result"
    }
   ],
   "source": [
    "series_post_codes=df_CDL['DeliveryPostcode'].apply(lambda x : split_post_code(str(x)))\n",
    "series_post_codes.shape"
   ]
  },
  {
   "cell_type": "code",
   "execution_count": 41,
   "metadata": {
    "collapsed": false
   },
   "outputs": [
    {
     "name": "stdout",
     "output_type": "stream",
     "text": [
      "dictionary lenght  2872\n",
      "percentage of not matches found = 0.2684148952607995\n",
      "not_sorted_dataframe    post_codes  num_operations\n",
      "0       SG19              52\n",
      "1        MK6              85\n",
      "2        B80              15\n",
      "3        IG8             108\n",
      "4        CH1             118\n",
      "--------------------------\n",
      "sorted_dataframe       post_codes  num_operations\n",
      "5           TA1            1033\n",
      "2246        ME7             924\n",
      "943         B61             903\n",
      "373         BL2             724\n",
      "2389       BS16             716\n"
     ]
    }
   ],
   "source": [
    "# In metod creating_empty_dictionary first argument has to be a panda series\n",
    "dictionary_post_codes=ch.creating_empty_dictionary(list_post_codes,return_dictionary_lenght=True)\n",
    "bin_names='post_codes'\n",
    "num_objects='num_operations'\n",
    "df_CDL_new=ch.counting_number_of_object_in_dataframe_per_bin_values(series_post_codes,\\\n",
    "    dictionary_post_codes,bin_names,num_objects,return_corrispondence_not_found=True,\\\n",
    "    return_head_dataframe_from_dict=True)"
   ]
  },
  {
   "cell_type": "code",
   "execution_count": 42,
   "metadata": {
    "collapsed": false
   },
   "outputs": [
    {
     "data": {
      "image/png": "[encoded data removed]",
      "text/plain": [
       "<matplotlib.figure.Figure at 0x24603c1e550>"
      ]
     },
     "metadata": {},
     "output_type": "display_data"
    }
   ],
   "source": [
    "%matplotlib inline\n",
    "import matplotlib.pyplot as plt\n",
    "plt.hist(df_CDL_new['num_operations'],bins=50)\n",
    "plt.show()"
   ]
  },
  {
   "cell_type": "code",
   "execution_count": 43,
   "metadata": {
    "collapsed": false
   },
   "outputs": [
    {
     "data": {
      "text/plain": [
       "<matplotlib.collections.PathCollection at 0x2460b63b278>"
      ]
     },
     "execution_count": 43,
     "metadata": {},
     "output_type": "execute_result"
    },
    {
     "data": {
      "image/png": "[encoded data removed]",
      "text/plain": [
       "<matplotlib.figure.Figure at 0x24602bc8d30>"
      ]
     },
     "metadata": {},
     "output_type": "display_data"
    }
   ],
   "source": [
    "plt.scatter(df_members['num_members'],df_CDL_new['num_operations'])"
   ]
  },
  {
   "cell_type": "code",
   "execution_count": 44,
   "metadata": {
    "collapsed": false
   },
   "outputs": [
    {
     "name": "stdout",
     "output_type": "stream",
     "text": [
      "correlation_coefficent 0.531849400297\n"
     ]
    }
   ],
   "source": [
    "r, p_value = pearsonr(df_members['num_members'],df_CDL_new['num_operations'])\n",
    "print('correlation_coefficent', r)"
   ]
  },
  {
   "cell_type": "code",
   "execution_count": 45,
   "metadata": {
    "collapsed": false
   },
   "outputs": [
    {
     "data": {
      "text/plain": [
       "<matplotlib.collections.PathCollection at 0x24601673710>"
      ]
     },
     "execution_count": 45,
     "metadata": {},
     "output_type": "execute_result"
    },
    {
     "data": {
      "image/png": "[encoded data removed]",
      "text/plain": [
       "<matplotlib.figure.Figure at 0x2460b642a20>"
      ]
     },
     "metadata": {},
     "output_type": "display_data"
    }
   ],
   "source": [
    "plt.scatter(df_mosaic_new['num_operations'],df_CDL_new['num_operations'])"
   ]
  },
  {
   "cell_type": "code",
   "execution_count": 46,
   "metadata": {
    "collapsed": false
   },
   "outputs": [
    {
     "name": "stdout",
     "output_type": "stream",
     "text": [
      "correlation_coefficent 0.466878625331\n"
     ]
    }
   ],
   "source": [
    "r, p_value = pearsonr(df_mosaic_new['num_operations'],df_CDL_new['num_operations'])\n",
    "print('correlation_coefficent', r)"
   ]
  },
  {
   "cell_type": "code",
   "execution_count": null,
   "metadata": {
    "collapsed": true
   },
   "outputs": [],
   "source": []
  }
 ],
 "metadata": {
  "anaconda-cloud": {},
  "kernelspec": {
   "display_name": "Python [Root]",
   "language": "python",
   "name": "Python [Root]"
  },
  "language_info": {
   "codemirror_mode": {
    "name": "ipython",
    "version": 3
   },
   "file_extension": ".py",
   "mimetype": "text/x-python",
   "name": "python",
   "nbconvert_exporter": "python",
   "pygments_lexer": "ipython3",
   "version": "3.5.2"
  },
  "nbpresent": {
   "slides": {
    "25ba4653-1321-4b2d-8fef-b57b36f15990": {
     "id": "25ba4653-1321-4b2d-8fef-b57b36f15990",
     "prev": "647594eb-1b63-45f0-8eaa-bfbd668293d2",
     "regions": {
      "a7562235-ccae-40ec-a3ff-09f08925a22c": {
       "attrs": {
        "height": 0.8,
        "width": 0.8,
        "x": 0.1,
        "y": 0.1
       },
       "content": {
        "cell": "d6911667-fcdf-4155-8b9a-ccc51914b621",
        "part": "whole"
       },
       "id": "a7562235-ccae-40ec-a3ff-09f08925a22c"
      }
     }
    },
    "4c60b42b-622b-46ef-be13-ca5b59cde990": {
     "id": "4c60b42b-622b-46ef-be13-ca5b59cde990",
     "prev": "b734da46-f4aa-4764-b11b-9af0325d8882",
     "regions": {
      "2b625aa3-6d09-4bae-9a56-9e41d69956ce": {
       "attrs": {
        "height": 0.8,
        "width": 0.8,
        "x": 0.1,
        "y": 0.1
       },
       "content": {
        "cell": "28cc7aca-c8f9-49fc-95cb-252bce98b0b2",
        "part": "whole"
       },
       "id": "2b625aa3-6d09-4bae-9a56-9e41d69956ce"
      }
     }
    },
    "647594eb-1b63-45f0-8eaa-bfbd668293d2": {
     "id": "647594eb-1b63-45f0-8eaa-bfbd668293d2",
     "prev": "bc1448bd-87a9-4e37-b21e-3b40965172a4",
     "regions": {
      "f7eb1c75-b428-4d55-a76a-252c32dd41f5": {
       "attrs": {
        "height": 0.8,
        "width": 0.8,
        "x": 0.1,
        "y": 0.1
       },
       "content": {
        "cell": "804a4222-e801-4f0b-91f9-59565e2e68d2",
        "part": "whole"
       },
       "id": "f7eb1c75-b428-4d55-a76a-252c32dd41f5"
      }
     }
    },
    "6641ec3a-e8bb-4c54-9f51-f07490c3b87d": {
     "id": "6641ec3a-e8bb-4c54-9f51-f07490c3b87d",
     "prev": null,
     "regions": {
      "ab0cc1a1-8753-453a-994d-3f96a875b9ef": {
       "attrs": {
        "height": 0.8,
        "width": 0.8,
        "x": 0.1,
        "y": 0.1
       },
       "content": {
        "cell": "a8e3a49d-a1e5-4dc6-ac66-ea08641275c4",
        "part": "whole"
       },
       "id": "ab0cc1a1-8753-453a-994d-3f96a875b9ef"
      }
     }
    },
    "7c4d7e2d-a055-4f9a-a08f-a06311fcc4bf": {
     "id": "7c4d7e2d-a055-4f9a-a08f-a06311fcc4bf",
     "prev": "e750bd9f-19e7-4310-ae01-37cdc56cf39f",
     "regions": {
      "5bb9172f-46b5-4d19-bbd2-eaa787773513": {
       "attrs": {
        "height": 0.8,
        "width": 0.8,
        "x": 0.1,
        "y": 0.1
       },
       "content": {
        "cell": "48f8b1ec-b507-450f-8fcf-c2d873f7948f",
        "part": "whole"
       },
       "id": "5bb9172f-46b5-4d19-bbd2-eaa787773513"
      }
     }
    },
    "b734da46-f4aa-4764-b11b-9af0325d8882": {
     "id": "b734da46-f4aa-4764-b11b-9af0325d8882",
     "prev": "6641ec3a-e8bb-4c54-9f51-f07490c3b87d",
     "regions": {
      "523bd9f8-8669-4d5b-8efb-1470432fd7bd": {
       "attrs": {
        "height": 0.8,
        "width": 0.8,
        "x": 0.1,
        "y": 0.1
       },
       "content": {
        "cell": "bc16862b-4085-4d9b-8e26-8faf4a62492b",
        "part": "whole"
       },
       "id": "523bd9f8-8669-4d5b-8efb-1470432fd7bd"
      }
     }
    },
    "bc1448bd-87a9-4e37-b21e-3b40965172a4": {
     "id": "bc1448bd-87a9-4e37-b21e-3b40965172a4",
     "prev": "7c4d7e2d-a055-4f9a-a08f-a06311fcc4bf",
     "regions": {
      "2a355367-8f79-4ecd-b269-a9d18abf7ef4": {
       "attrs": {
        "height": 0.8,
        "width": 0.8,
        "x": 0.1,
        "y": 0.1
       },
       "content": {
        "cell": "46fd1530-7488-41bc-a050-43eff722bb04",
        "part": "whole"
       },
       "id": "2a355367-8f79-4ecd-b269-a9d18abf7ef4"
      }
     }
    },
    "e750bd9f-19e7-4310-ae01-37cdc56cf39f": {
     "id": "e750bd9f-19e7-4310-ae01-37cdc56cf39f",
     "prev": "4c60b42b-622b-46ef-be13-ca5b59cde990",
     "regions": {
      "98c79236-d40b-4f70-b918-ec8bd42b4962": {
       "attrs": {
        "height": 0.8,
        "width": 0.8,
        "x": 0.1,
        "y": 0.1
       },
       "content": {
        "cell": "7d451868-ca4f-4ce3-916e-a92c3e810b42",
        "part": "whole"
       },
       "id": "98c79236-d40b-4f70-b918-ec8bd42b4962"
      }
     }
    }
   },
   "themes": {
    "default": "0e6f72de-57a2-48cf-80cc-98abd6290f3b",
    "theme": {}
   }
  }
 },
 "nbformat": 4,
 "nbformat_minor": 0
}
