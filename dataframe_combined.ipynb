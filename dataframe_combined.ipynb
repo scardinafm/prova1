{
 "cells": [
  {
   "cell_type": "code",
   "execution_count": 1,
   "metadata": {
    "collapsed": true
   },
   "outputs": [],
   "source": [
    "import pickle\n",
    "import pandas as pd\n",
    "documents_f = open(\"list_dataframes.pickle\",\"rb\")\n",
    "list_dataframes= pickle.load(documents_f)\n",
    "documents_f.close()"
   ]
  },
  {
   "cell_type": "code",
   "execution_count": 2,
   "metadata": {
    "collapsed": false,
    "scrolled": true
   },
   "outputs": [
    {
     "name": "stdout",
     "output_type": "stream",
     "text": [
      "CID           int64\n",
      "POST_CODE    object\n",
      "dtype: object\n",
      "(0, 'volunters_active', 'shape', (3633, 2))\n",
      "CID         int64\n",
      "TYPE_VOL    int64\n",
      "dtype: object\n",
      "(1, 'gifts', 'shape', (582111, 3))\n",
      "CID           int64\n",
      "AVG_gift    float64\n",
      "NUM_gift      int64\n",
      "dtype: object\n",
      "(2, 'products_PK', 'shape', (14794, 4))\n",
      "CID         int64\n",
      "PRODUCT     int64\n",
      "POST_C     object\n",
      "NUM_P       int64\n",
      "dtype: object\n",
      "(3, 'address', 'shape', (742707, 2))\n",
      "(4, 'members_active', 'shape', (35078, 2))\n",
      "CID         int64\n",
      "MEMB_STA    int64\n",
      "dtype: object\n",
      "(5, 'events', 'shape', (5124, 2))\n",
      "CID       int64\n",
      "NUM_EV    int64\n",
      "dtype: object\n",
      "('combined dataframe', 'shape', (742707, 10))\n"
     ]
    }
   ],
   "source": [
    "combined=list_dataframes['address']\n",
    "print(combined.dtypes)\n",
    "for i,j in enumerate(list_dataframes):\n",
    "    print(i,j,'shape',list_dataframes[j].shape)\n",
    "    list_dataframes[j]['CID']=list_dataframes[j]['CID'].apply(lambda x: int(x))\n",
    "    if i !=3:\n",
    "        print(list_dataframes[j].dtypes)\n",
    "        combined = combined.merge(list_dataframes[j],\\\n",
    "        on='CID', how=\"left\")\n",
    "print('combined dataframe','shape',combined.shape)"
   ]
  },
  {
   "cell_type": "code",
   "execution_count": 3,
   "metadata": {
    "collapsed": false
   },
   "outputs": [
    {
     "name": "stdout",
     "output_type": "stream",
     "text": [
      "['CID', 'POST_CODE', 'TYPE_VOL', 'AVG_gift', 'NUM_gift', 'PRODUCT', 'POST_C', 'NUM_P', 'MEMB_STA', 'NUM_EV']\n"
     ]
    }
   ],
   "source": [
    "list_columns=list(combined.columns.values)\n",
    "print(list_columns)"
   ]
  },
  {
   "cell_type": "code",
   "execution_count": 4,
   "metadata": {
    "collapsed": false
   },
   "outputs": [
    {
     "data": {
      "text/html": [
       "<div>\n",
       "<table border=\"1\" class=\"dataframe\">\n",
       "  <thead>\n",
       "    <tr style=\"text-align: right;\">\n",
       "      <th></th>\n",
       "      <th>CID</th>\n",
       "      <th>POST_CODE</th>\n",
       "      <th>TYPE_VOL</th>\n",
       "      <th>AVG_gift</th>\n",
       "      <th>NUM_gift</th>\n",
       "      <th>PRODUCT</th>\n",
       "      <th>POST_C</th>\n",
       "      <th>NUM_P</th>\n",
       "      <th>MEMB_STA</th>\n",
       "      <th>NUM_EV</th>\n",
       "    </tr>\n",
       "  </thead>\n",
       "  <tbody>\n",
       "    <tr>\n",
       "      <th>0</th>\n",
       "      <td>0</td>\n",
       "      <td>URN-0</td>\n",
       "      <td>NaN</td>\n",
       "      <td>NaN</td>\n",
       "      <td>NaN</td>\n",
       "      <td>NaN</td>\n",
       "      <td>NaN</td>\n",
       "      <td>NaN</td>\n",
       "      <td>NaN</td>\n",
       "      <td>NaN</td>\n",
       "    </tr>\n",
       "    <tr>\n",
       "      <th>1</th>\n",
       "      <td>10</td>\n",
       "      <td>SK9 7SF</td>\n",
       "      <td>NaN</td>\n",
       "      <td>4.261538</td>\n",
       "      <td>13.0</td>\n",
       "      <td>NaN</td>\n",
       "      <td>NaN</td>\n",
       "      <td>NaN</td>\n",
       "      <td>NaN</td>\n",
       "      <td>NaN</td>\n",
       "    </tr>\n",
       "    <tr>\n",
       "      <th>2</th>\n",
       "      <td>100001</td>\n",
       "      <td>URN-100001</td>\n",
       "      <td>NaN</td>\n",
       "      <td>74.166667</td>\n",
       "      <td>3.0</td>\n",
       "      <td>NaN</td>\n",
       "      <td>NaN</td>\n",
       "      <td>NaN</td>\n",
       "      <td>NaN</td>\n",
       "      <td>NaN</td>\n",
       "    </tr>\n",
       "    <tr>\n",
       "      <th>3</th>\n",
       "      <td>100004</td>\n",
       "      <td>URN-100004</td>\n",
       "      <td>NaN</td>\n",
       "      <td>10.500000</td>\n",
       "      <td>1.0</td>\n",
       "      <td>NaN</td>\n",
       "      <td>NaN</td>\n",
       "      <td>NaN</td>\n",
       "      <td>NaN</td>\n",
       "      <td>NaN</td>\n",
       "    </tr>\n",
       "    <tr>\n",
       "      <th>4</th>\n",
       "      <td>100005</td>\n",
       "      <td>URN-100005</td>\n",
       "      <td>NaN</td>\n",
       "      <td>78.536667</td>\n",
       "      <td>3.0</td>\n",
       "      <td>NaN</td>\n",
       "      <td>NaN</td>\n",
       "      <td>NaN</td>\n",
       "      <td>NaN</td>\n",
       "      <td>NaN</td>\n",
       "    </tr>\n",
       "  </tbody>\n",
       "</table>\n",
       "</div>"
      ],
      "text/plain": [
       "      CID   POST_CODE  TYPE_VOL   AVG_gift  NUM_gift  PRODUCT POST_C  NUM_P  \\\n",
       "0       0       URN-0       NaN        NaN       NaN      NaN    NaN    NaN   \n",
       "1      10     SK9 7SF       NaN   4.261538      13.0      NaN    NaN    NaN   \n",
       "2  100001  URN-100001       NaN  74.166667       3.0      NaN    NaN    NaN   \n",
       "3  100004  URN-100004       NaN  10.500000       1.0      NaN    NaN    NaN   \n",
       "4  100005  URN-100005       NaN  78.536667       3.0      NaN    NaN    NaN   \n",
       "\n",
       "   MEMB_STA  NUM_EV  \n",
       "0       NaN     NaN  \n",
       "1       NaN     NaN  \n",
       "2       NaN     NaN  \n",
       "3       NaN     NaN  \n",
       "4       NaN     NaN  "
      ]
     },
     "execution_count": 4,
     "metadata": {},
     "output_type": "execute_result"
    }
   ],
   "source": [
    "combined.head()"
   ]
  },
  {
   "cell_type": "code",
   "execution_count": 5,
   "metadata": {
    "collapsed": false
   },
   "outputs": [],
   "source": [
    "for i,j in enumerate(list_columns):\n",
    "    combined[j]=combined[j].fillna(0)"
   ]
  },
  {
   "cell_type": "code",
   "execution_count": 6,
   "metadata": {
    "collapsed": false
   },
   "outputs": [
    {
     "data": {
      "text/html": [
       "<div>\n",
       "<table border=\"1\" class=\"dataframe\">\n",
       "  <thead>\n",
       "    <tr style=\"text-align: right;\">\n",
       "      <th></th>\n",
       "      <th>CID</th>\n",
       "      <th>POST_CODE</th>\n",
       "      <th>TYPE_VOL</th>\n",
       "      <th>AVG_gift</th>\n",
       "      <th>NUM_gift</th>\n",
       "      <th>PRODUCT</th>\n",
       "      <th>POST_C</th>\n",
       "      <th>NUM_P</th>\n",
       "      <th>MEMB_STA</th>\n",
       "      <th>NUM_EV</th>\n",
       "    </tr>\n",
       "  </thead>\n",
       "  <tbody>\n",
       "    <tr>\n",
       "      <th>0</th>\n",
       "      <td>0</td>\n",
       "      <td>URN-0</td>\n",
       "      <td>0.0</td>\n",
       "      <td>0.000000</td>\n",
       "      <td>0.0</td>\n",
       "      <td>0.0</td>\n",
       "      <td>0</td>\n",
       "      <td>0.0</td>\n",
       "      <td>0.0</td>\n",
       "      <td>0.0</td>\n",
       "    </tr>\n",
       "    <tr>\n",
       "      <th>1</th>\n",
       "      <td>10</td>\n",
       "      <td>SK9 7SF</td>\n",
       "      <td>0.0</td>\n",
       "      <td>4.261538</td>\n",
       "      <td>13.0</td>\n",
       "      <td>0.0</td>\n",
       "      <td>0</td>\n",
       "      <td>0.0</td>\n",
       "      <td>0.0</td>\n",
       "      <td>0.0</td>\n",
       "    </tr>\n",
       "    <tr>\n",
       "      <th>2</th>\n",
       "      <td>100001</td>\n",
       "      <td>URN-100001</td>\n",
       "      <td>0.0</td>\n",
       "      <td>74.166667</td>\n",
       "      <td>3.0</td>\n",
       "      <td>0.0</td>\n",
       "      <td>0</td>\n",
       "      <td>0.0</td>\n",
       "      <td>0.0</td>\n",
       "      <td>0.0</td>\n",
       "    </tr>\n",
       "    <tr>\n",
       "      <th>3</th>\n",
       "      <td>100004</td>\n",
       "      <td>URN-100004</td>\n",
       "      <td>0.0</td>\n",
       "      <td>10.500000</td>\n",
       "      <td>1.0</td>\n",
       "      <td>0.0</td>\n",
       "      <td>0</td>\n",
       "      <td>0.0</td>\n",
       "      <td>0.0</td>\n",
       "      <td>0.0</td>\n",
       "    </tr>\n",
       "    <tr>\n",
       "      <th>4</th>\n",
       "      <td>100005</td>\n",
       "      <td>URN-100005</td>\n",
       "      <td>0.0</td>\n",
       "      <td>78.536667</td>\n",
       "      <td>3.0</td>\n",
       "      <td>0.0</td>\n",
       "      <td>0</td>\n",
       "      <td>0.0</td>\n",
       "      <td>0.0</td>\n",
       "      <td>0.0</td>\n",
       "    </tr>\n",
       "  </tbody>\n",
       "</table>\n",
       "</div>"
      ],
      "text/plain": [
       "      CID   POST_CODE  TYPE_VOL   AVG_gift  NUM_gift  PRODUCT POST_C  NUM_P  \\\n",
       "0       0       URN-0       0.0   0.000000       0.0      0.0      0    0.0   \n",
       "1      10     SK9 7SF       0.0   4.261538      13.0      0.0      0    0.0   \n",
       "2  100001  URN-100001       0.0  74.166667       3.0      0.0      0    0.0   \n",
       "3  100004  URN-100004       0.0  10.500000       1.0      0.0      0    0.0   \n",
       "4  100005  URN-100005       0.0  78.536667       3.0      0.0      0    0.0   \n",
       "\n",
       "   MEMB_STA  NUM_EV  \n",
       "0       0.0     0.0  \n",
       "1       0.0     0.0  \n",
       "2       0.0     0.0  \n",
       "3       0.0     0.0  \n",
       "4       0.0     0.0  "
      ]
     },
     "execution_count": 6,
     "metadata": {},
     "output_type": "execute_result"
    }
   ],
   "source": [
    "combined.head()"
   ]
  },
  {
   "cell_type": "code",
   "execution_count": 7,
   "metadata": {
    "collapsed": false
   },
   "outputs": [
    {
     "data": {
      "text/plain": [
       "CID            int64\n",
       "POST_CODE     object\n",
       "TYPE_VOL     float64\n",
       "AVG_gift     float64\n",
       "NUM_gift     float64\n",
       "PRODUCT      float64\n",
       "POST_C        object\n",
       "NUM_P        float64\n",
       "MEMB_STA     float64\n",
       "NUM_EV       float64\n",
       "dtype: object"
      ]
     },
     "execution_count": 7,
     "metadata": {},
     "output_type": "execute_result"
    }
   ],
   "source": [
    "combined.dtypes"
   ]
  },
  {
   "cell_type": "code",
   "execution_count": 8,
   "metadata": {
    "collapsed": false
   },
   "outputs": [
    {
     "data": {
      "text/html": [
       "<div>\n",
       "<table border=\"1\" class=\"dataframe\">\n",
       "  <thead>\n",
       "    <tr style=\"text-align: right;\">\n",
       "      <th></th>\n",
       "      <th>CID</th>\n",
       "      <th>POST_CODE</th>\n",
       "      <th>TYPE_VOL</th>\n",
       "      <th>AVG_gift</th>\n",
       "      <th>NUM_gift</th>\n",
       "      <th>PRODUCT</th>\n",
       "      <th>POST_C</th>\n",
       "      <th>NUM_P</th>\n",
       "      <th>MEMB_STA</th>\n",
       "      <th>NUM_EV</th>\n",
       "    </tr>\n",
       "  </thead>\n",
       "  <tbody>\n",
       "  </tbody>\n",
       "</table>\n",
       "</div>"
      ],
      "text/plain": [
       "Empty DataFrame\n",
       "Columns: [CID, POST_CODE, TYPE_VOL, AVG_gift, NUM_gift, PRODUCT, POST_C, NUM_P, MEMB_STA, NUM_EV]\n",
       "Index: []"
      ]
     },
     "execution_count": 8,
     "metadata": {},
     "output_type": "execute_result"
    }
   ],
   "source": [
    "a=combined[combined['POST_CODE']==0]\n",
    "a.head()"
   ]
  },
  {
   "cell_type": "code",
   "execution_count": 9,
   "metadata": {
    "collapsed": false
   },
   "outputs": [],
   "source": [
    "#def find_post_code(x):\n",
    "#    if x[1]=='0' and x[6] !='0':\n",
    "#        x[1]=x[6]\n",
    "#    return x\n",
    "#prova=combined.apply(find_post_code,axis=1)"
   ]
  },
  {
   "cell_type": "code",
   "execution_count": 10,
   "metadata": {
    "collapsed": true
   },
   "outputs": [],
   "source": [
    "del combined['POST_C']"
   ]
  },
  {
   "cell_type": "code",
   "execution_count": 11,
   "metadata": {
    "collapsed": false
   },
   "outputs": [
    {
     "data": {
      "text/html": [
       "<div>\n",
       "<table border=\"1\" class=\"dataframe\">\n",
       "  <thead>\n",
       "    <tr style=\"text-align: right;\">\n",
       "      <th></th>\n",
       "      <th>CID</th>\n",
       "      <th>POST_CODE</th>\n",
       "      <th>TYPE_VOL</th>\n",
       "      <th>AVG_gift</th>\n",
       "      <th>NUM_gift</th>\n",
       "      <th>PRODUCT</th>\n",
       "      <th>NUM_P</th>\n",
       "      <th>MEMB_STA</th>\n",
       "      <th>NUM_EV</th>\n",
       "    </tr>\n",
       "  </thead>\n",
       "  <tbody>\n",
       "    <tr>\n",
       "      <th>0</th>\n",
       "      <td>0</td>\n",
       "      <td>URN-0</td>\n",
       "      <td>0.0</td>\n",
       "      <td>0.000000</td>\n",
       "      <td>0.0</td>\n",
       "      <td>0.0</td>\n",
       "      <td>0.0</td>\n",
       "      <td>0.0</td>\n",
       "      <td>0.0</td>\n",
       "    </tr>\n",
       "    <tr>\n",
       "      <th>1</th>\n",
       "      <td>10</td>\n",
       "      <td>SK9 7SF</td>\n",
       "      <td>0.0</td>\n",
       "      <td>4.261538</td>\n",
       "      <td>13.0</td>\n",
       "      <td>0.0</td>\n",
       "      <td>0.0</td>\n",
       "      <td>0.0</td>\n",
       "      <td>0.0</td>\n",
       "    </tr>\n",
       "    <tr>\n",
       "      <th>2</th>\n",
       "      <td>100001</td>\n",
       "      <td>URN-100001</td>\n",
       "      <td>0.0</td>\n",
       "      <td>74.166667</td>\n",
       "      <td>3.0</td>\n",
       "      <td>0.0</td>\n",
       "      <td>0.0</td>\n",
       "      <td>0.0</td>\n",
       "      <td>0.0</td>\n",
       "    </tr>\n",
       "    <tr>\n",
       "      <th>3</th>\n",
       "      <td>100004</td>\n",
       "      <td>URN-100004</td>\n",
       "      <td>0.0</td>\n",
       "      <td>10.500000</td>\n",
       "      <td>1.0</td>\n",
       "      <td>0.0</td>\n",
       "      <td>0.0</td>\n",
       "      <td>0.0</td>\n",
       "      <td>0.0</td>\n",
       "    </tr>\n",
       "    <tr>\n",
       "      <th>4</th>\n",
       "      <td>100005</td>\n",
       "      <td>URN-100005</td>\n",
       "      <td>0.0</td>\n",
       "      <td>78.536667</td>\n",
       "      <td>3.0</td>\n",
       "      <td>0.0</td>\n",
       "      <td>0.0</td>\n",
       "      <td>0.0</td>\n",
       "      <td>0.0</td>\n",
       "    </tr>\n",
       "  </tbody>\n",
       "</table>\n",
       "</div>"
      ],
      "text/plain": [
       "      CID   POST_CODE  TYPE_VOL   AVG_gift  NUM_gift  PRODUCT  NUM_P  \\\n",
       "0       0       URN-0       0.0   0.000000       0.0      0.0    0.0   \n",
       "1      10     SK9 7SF       0.0   4.261538      13.0      0.0    0.0   \n",
       "2  100001  URN-100001       0.0  74.166667       3.0      0.0    0.0   \n",
       "3  100004  URN-100004       0.0  10.500000       1.0      0.0    0.0   \n",
       "4  100005  URN-100005       0.0  78.536667       3.0      0.0    0.0   \n",
       "\n",
       "   MEMB_STA  NUM_EV  \n",
       "0       0.0     0.0  \n",
       "1       0.0     0.0  \n",
       "2       0.0     0.0  \n",
       "3       0.0     0.0  \n",
       "4       0.0     0.0  "
      ]
     },
     "execution_count": 11,
     "metadata": {},
     "output_type": "execute_result"
    }
   ],
   "source": [
    "combined.head()"
   ]
  },
  {
   "cell_type": "code",
   "execution_count": 12,
   "metadata": {
    "collapsed": false
   },
   "outputs": [
    {
     "data": {
      "text/html": [
       "<div>\n",
       "<table border=\"1\" class=\"dataframe\">\n",
       "  <thead>\n",
       "    <tr style=\"text-align: right;\">\n",
       "      <th></th>\n",
       "      <th>pcd</th>\n",
       "      <th>ccg</th>\n",
       "      <th>lat</th>\n",
       "      <th>long</th>\n",
       "    </tr>\n",
       "  </thead>\n",
       "  <tbody>\n",
       "    <tr>\n",
       "      <th>0</th>\n",
       "      <td>AB1 0AA</td>\n",
       "      <td>S03000012</td>\n",
       "      <td>57.101474</td>\n",
       "      <td>-2.242851</td>\n",
       "    </tr>\n",
       "    <tr>\n",
       "      <th>1</th>\n",
       "      <td>AB1 0AB</td>\n",
       "      <td>S03000012</td>\n",
       "      <td>57.102554</td>\n",
       "      <td>-2.246308</td>\n",
       "    </tr>\n",
       "    <tr>\n",
       "      <th>2</th>\n",
       "      <td>AB1 0AD</td>\n",
       "      <td>S03000012</td>\n",
       "      <td>57.100556</td>\n",
       "      <td>-2.248342</td>\n",
       "    </tr>\n",
       "    <tr>\n",
       "      <th>3</th>\n",
       "      <td>AB1 0AE</td>\n",
       "      <td>S03000013</td>\n",
       "      <td>57.084444</td>\n",
       "      <td>-2.255708</td>\n",
       "    </tr>\n",
       "    <tr>\n",
       "      <th>4</th>\n",
       "      <td>AB1 0AF</td>\n",
       "      <td>S03000012</td>\n",
       "      <td>57.096656</td>\n",
       "      <td>-2.258102</td>\n",
       "    </tr>\n",
       "  </tbody>\n",
       "</table>\n",
       "</div>"
      ],
      "text/plain": [
       "       pcd        ccg        lat      long\n",
       "0  AB1 0AA  S03000012  57.101474 -2.242851\n",
       "1  AB1 0AB  S03000012  57.102554 -2.246308\n",
       "2  AB1 0AD  S03000012  57.100556 -2.248342\n",
       "3  AB1 0AE  S03000013  57.084444 -2.255708\n",
       "4  AB1 0AF  S03000012  57.096656 -2.258102"
      ]
     },
     "execution_count": 12,
     "metadata": {},
     "output_type": "execute_result"
    }
   ],
   "source": [
    "poste_code_to_region = pd.read_csv(\"postcodeccg.csv\",sep=\",\")\n",
    "poste_code_to_region.head()"
   ]
  },
  {
   "cell_type": "code",
   "execution_count": 13,
   "metadata": {
    "collapsed": false
   },
   "outputs": [
    {
     "name": "stdout",
     "output_type": "stream",
     "text": [
      "('0    AB1 0AA\\nName: pcd, dtype: object', <type 'str'>)\n",
      "POST_CODE     object\n",
      "ccg           object\n",
      "lat          float64\n",
      "long         float64\n",
      "dtype: object\n"
     ]
    }
   ],
   "source": [
    "#del poste_code_to_region['lat']\n",
    "#del poste_code_to_region['long']\n",
    "a=poste_code_to_region['pcd'].iloc[0:1]\n",
    "a=str(a)\n",
    "print(a,type(a))\n",
    "def ff(x):\n",
    "    try:\n",
    "        x=str(x)\n",
    "    except Exception:\n",
    "        pass\n",
    "    return x\n",
    "combined['POST_CODE']=combined['POST_CODE'].apply(lambda x: ff(x))\n",
    "poste_code_to_region['pcd']=poste_code_to_region['pcd'].apply(lambda x: ff(x))\n",
    "poste_code_to_region=poste_code_to_region.rename(columns={'pcd': 'POST_CODE'})\n",
    "#print(poste_code_to_region.shape)\n",
    "print(poste_code_to_region.dtypes)\n",
    "#poste_code_to_region.head()"
   ]
  },
  {
   "cell_type": "code",
   "execution_count": 14,
   "metadata": {
    "collapsed": false
   },
   "outputs": [],
   "source": [
    "combined=combined.merge(poste_code_to_region, on='POST_CODE', how=\"left\")"
   ]
  },
  {
   "cell_type": "code",
   "execution_count": 15,
   "metadata": {
    "collapsed": false
   },
   "outputs": [
    {
     "data": {
      "text/html": [
       "<div>\n",
       "<table border=\"1\" class=\"dataframe\">\n",
       "  <thead>\n",
       "    <tr style=\"text-align: right;\">\n",
       "      <th></th>\n",
       "      <th>CID</th>\n",
       "      <th>POST_CODE</th>\n",
       "      <th>TYPE_VOL</th>\n",
       "      <th>AVG_gift</th>\n",
       "      <th>NUM_gift</th>\n",
       "      <th>PRODUCT</th>\n",
       "      <th>NUM_P</th>\n",
       "      <th>MEMB_STA</th>\n",
       "      <th>NUM_EV</th>\n",
       "      <th>ccg</th>\n",
       "      <th>lat</th>\n",
       "      <th>long</th>\n",
       "    </tr>\n",
       "  </thead>\n",
       "  <tbody>\n",
       "    <tr>\n",
       "      <th>0</th>\n",
       "      <td>0</td>\n",
       "      <td>URN-0</td>\n",
       "      <td>0.0</td>\n",
       "      <td>0.000000</td>\n",
       "      <td>0.0</td>\n",
       "      <td>0.0</td>\n",
       "      <td>0.0</td>\n",
       "      <td>0.0</td>\n",
       "      <td>0.0</td>\n",
       "      <td>NaN</td>\n",
       "      <td>NaN</td>\n",
       "      <td>NaN</td>\n",
       "    </tr>\n",
       "    <tr>\n",
       "      <th>1</th>\n",
       "      <td>10</td>\n",
       "      <td>SK9 7SF</td>\n",
       "      <td>0.0</td>\n",
       "      <td>4.261538</td>\n",
       "      <td>13.0</td>\n",
       "      <td>0.0</td>\n",
       "      <td>0.0</td>\n",
       "      <td>0.0</td>\n",
       "      <td>0.0</td>\n",
       "      <td>E38000056</td>\n",
       "      <td>53.309307</td>\n",
       "      <td>-2.262493</td>\n",
       "    </tr>\n",
       "    <tr>\n",
       "      <th>2</th>\n",
       "      <td>100001</td>\n",
       "      <td>URN-100001</td>\n",
       "      <td>0.0</td>\n",
       "      <td>74.166667</td>\n",
       "      <td>3.0</td>\n",
       "      <td>0.0</td>\n",
       "      <td>0.0</td>\n",
       "      <td>0.0</td>\n",
       "      <td>0.0</td>\n",
       "      <td>NaN</td>\n",
       "      <td>NaN</td>\n",
       "      <td>NaN</td>\n",
       "    </tr>\n",
       "    <tr>\n",
       "      <th>3</th>\n",
       "      <td>100004</td>\n",
       "      <td>URN-100004</td>\n",
       "      <td>0.0</td>\n",
       "      <td>10.500000</td>\n",
       "      <td>1.0</td>\n",
       "      <td>0.0</td>\n",
       "      <td>0.0</td>\n",
       "      <td>0.0</td>\n",
       "      <td>0.0</td>\n",
       "      <td>NaN</td>\n",
       "      <td>NaN</td>\n",
       "      <td>NaN</td>\n",
       "    </tr>\n",
       "    <tr>\n",
       "      <th>4</th>\n",
       "      <td>100005</td>\n",
       "      <td>URN-100005</td>\n",
       "      <td>0.0</td>\n",
       "      <td>78.536667</td>\n",
       "      <td>3.0</td>\n",
       "      <td>0.0</td>\n",
       "      <td>0.0</td>\n",
       "      <td>0.0</td>\n",
       "      <td>0.0</td>\n",
       "      <td>NaN</td>\n",
       "      <td>NaN</td>\n",
       "      <td>NaN</td>\n",
       "    </tr>\n",
       "  </tbody>\n",
       "</table>\n",
       "</div>"
      ],
      "text/plain": [
       "      CID   POST_CODE  TYPE_VOL   AVG_gift  NUM_gift  PRODUCT  NUM_P  \\\n",
       "0       0       URN-0       0.0   0.000000       0.0      0.0    0.0   \n",
       "1      10     SK9 7SF       0.0   4.261538      13.0      0.0    0.0   \n",
       "2  100001  URN-100001       0.0  74.166667       3.0      0.0    0.0   \n",
       "3  100004  URN-100004       0.0  10.500000       1.0      0.0    0.0   \n",
       "4  100005  URN-100005       0.0  78.536667       3.0      0.0    0.0   \n",
       "\n",
       "   MEMB_STA  NUM_EV        ccg        lat      long  \n",
       "0       0.0     0.0        NaN        NaN       NaN  \n",
       "1       0.0     0.0  E38000056  53.309307 -2.262493  \n",
       "2       0.0     0.0        NaN        NaN       NaN  \n",
       "3       0.0     0.0        NaN        NaN       NaN  \n",
       "4       0.0     0.0        NaN        NaN       NaN  "
      ]
     },
     "execution_count": 15,
     "metadata": {},
     "output_type": "execute_result"
    }
   ],
   "source": [
    "combined.head()"
   ]
  },
  {
   "cell_type": "code",
   "execution_count": 16,
   "metadata": {
    "collapsed": false
   },
   "outputs": [],
   "source": [
    "combined[\"ccg\"].fillna(0,inplace=True)\n",
    "combined[\"lat\"].fillna(0,inplace=True)\n",
    "combined[\"long\"].fillna(0,inplace=True)"
   ]
  },
  {
   "cell_type": "code",
   "execution_count": 17,
   "metadata": {
    "collapsed": false
   },
   "outputs": [
    {
     "data": {
      "text/html": [
       "<div>\n",
       "<table border=\"1\" class=\"dataframe\">\n",
       "  <thead>\n",
       "    <tr style=\"text-align: right;\">\n",
       "      <th></th>\n",
       "      <th>CID</th>\n",
       "      <th>POST_CODE</th>\n",
       "      <th>TYPE_VOL</th>\n",
       "      <th>AVG_gift</th>\n",
       "      <th>NUM_gift</th>\n",
       "      <th>PRODUCT</th>\n",
       "      <th>NUM_P</th>\n",
       "      <th>MEMB_STA</th>\n",
       "      <th>NUM_EV</th>\n",
       "      <th>ccg</th>\n",
       "      <th>lat</th>\n",
       "      <th>long</th>\n",
       "    </tr>\n",
       "  </thead>\n",
       "  <tbody>\n",
       "    <tr>\n",
       "      <th>0</th>\n",
       "      <td>0</td>\n",
       "      <td>URN-0</td>\n",
       "      <td>0.0</td>\n",
       "      <td>0.000000</td>\n",
       "      <td>0.0</td>\n",
       "      <td>0.0</td>\n",
       "      <td>0.0</td>\n",
       "      <td>0.0</td>\n",
       "      <td>0.0</td>\n",
       "      <td>0</td>\n",
       "      <td>0.000000</td>\n",
       "      <td>0.000000</td>\n",
       "    </tr>\n",
       "    <tr>\n",
       "      <th>1</th>\n",
       "      <td>10</td>\n",
       "      <td>SK9 7SF</td>\n",
       "      <td>0.0</td>\n",
       "      <td>4.261538</td>\n",
       "      <td>13.0</td>\n",
       "      <td>0.0</td>\n",
       "      <td>0.0</td>\n",
       "      <td>0.0</td>\n",
       "      <td>0.0</td>\n",
       "      <td>E38000056</td>\n",
       "      <td>53.309307</td>\n",
       "      <td>-2.262493</td>\n",
       "    </tr>\n",
       "    <tr>\n",
       "      <th>2</th>\n",
       "      <td>100001</td>\n",
       "      <td>URN-100001</td>\n",
       "      <td>0.0</td>\n",
       "      <td>74.166667</td>\n",
       "      <td>3.0</td>\n",
       "      <td>0.0</td>\n",
       "      <td>0.0</td>\n",
       "      <td>0.0</td>\n",
       "      <td>0.0</td>\n",
       "      <td>0</td>\n",
       "      <td>0.000000</td>\n",
       "      <td>0.000000</td>\n",
       "    </tr>\n",
       "    <tr>\n",
       "      <th>3</th>\n",
       "      <td>100004</td>\n",
       "      <td>URN-100004</td>\n",
       "      <td>0.0</td>\n",
       "      <td>10.500000</td>\n",
       "      <td>1.0</td>\n",
       "      <td>0.0</td>\n",
       "      <td>0.0</td>\n",
       "      <td>0.0</td>\n",
       "      <td>0.0</td>\n",
       "      <td>0</td>\n",
       "      <td>0.000000</td>\n",
       "      <td>0.000000</td>\n",
       "    </tr>\n",
       "    <tr>\n",
       "      <th>4</th>\n",
       "      <td>100005</td>\n",
       "      <td>URN-100005</td>\n",
       "      <td>0.0</td>\n",
       "      <td>78.536667</td>\n",
       "      <td>3.0</td>\n",
       "      <td>0.0</td>\n",
       "      <td>0.0</td>\n",
       "      <td>0.0</td>\n",
       "      <td>0.0</td>\n",
       "      <td>0</td>\n",
       "      <td>0.000000</td>\n",
       "      <td>0.000000</td>\n",
       "    </tr>\n",
       "  </tbody>\n",
       "</table>\n",
       "</div>"
      ],
      "text/plain": [
       "      CID   POST_CODE  TYPE_VOL   AVG_gift  NUM_gift  PRODUCT  NUM_P  \\\n",
       "0       0       URN-0       0.0   0.000000       0.0      0.0    0.0   \n",
       "1      10     SK9 7SF       0.0   4.261538      13.0      0.0    0.0   \n",
       "2  100001  URN-100001       0.0  74.166667       3.0      0.0    0.0   \n",
       "3  100004  URN-100004       0.0  10.500000       1.0      0.0    0.0   \n",
       "4  100005  URN-100005       0.0  78.536667       3.0      0.0    0.0   \n",
       "\n",
       "   MEMB_STA  NUM_EV        ccg        lat      long  \n",
       "0       0.0     0.0          0   0.000000  0.000000  \n",
       "1       0.0     0.0  E38000056  53.309307 -2.262493  \n",
       "2       0.0     0.0          0   0.000000  0.000000  \n",
       "3       0.0     0.0          0   0.000000  0.000000  \n",
       "4       0.0     0.0          0   0.000000  0.000000  "
      ]
     },
     "execution_count": 17,
     "metadata": {},
     "output_type": "execute_result"
    }
   ],
   "source": [
    "combined.head()"
   ]
  },
  {
   "cell_type": "code",
   "execution_count": 18,
   "metadata": {
    "collapsed": false
   },
   "outputs": [
    {
     "name": "stdout",
     "output_type": "stream",
     "text": [
      "255\n"
     ]
    }
   ],
   "source": [
    "list_unique=combined[\"ccg\"].unique()\n",
    "print(len(list_unique))"
   ]
  },
  {
   "cell_type": "code",
   "execution_count": 19,
   "metadata": {
    "collapsed": false
   },
   "outputs": [],
   "source": [
    "list_aus=[]\n",
    "for i,j in enumerate(list_unique):\n",
    "    list_aus.append((j,i))\n",
    "dict_aus = {key: value for (key, value) in list_aus}"
   ]
  },
  {
   "cell_type": "code",
   "execution_count": 20,
   "metadata": {
    "collapsed": false
   },
   "outputs": [],
   "source": [
    "#combined['ccg']=combined['ccg'].apply(lambda x: dict_aus[x])"
   ]
  },
  {
   "cell_type": "code",
   "execution_count": 21,
   "metadata": {
    "collapsed": false
   },
   "outputs": [
    {
     "data": {
      "text/plain": [
       "CID            int64\n",
       "POST_CODE     object\n",
       "TYPE_VOL     float64\n",
       "AVG_gift     float64\n",
       "NUM_gift     float64\n",
       "PRODUCT      float64\n",
       "NUM_P        float64\n",
       "MEMB_STA     float64\n",
       "NUM_EV       float64\n",
       "ccg           object\n",
       "lat          float64\n",
       "long         float64\n",
       "dtype: object"
      ]
     },
     "execution_count": 21,
     "metadata": {},
     "output_type": "execute_result"
    }
   ],
   "source": [
    "combined.dtypes"
   ]
  },
  {
   "cell_type": "code",
   "execution_count": 22,
   "metadata": {
    "collapsed": false
   },
   "outputs": [],
   "source": [
    "combined['TYPE_VOL']=combined['TYPE_VOL'].apply(lambda x: int(x))\n",
    "combined['NUM_gift']=combined['NUM_gift'].apply(lambda x: int(x))\n",
    "combined['PRODUCT']=combined['PRODUCT'].apply(lambda x: int(x))\n",
    "combined['NUM_P']=combined['NUM_P'].apply(lambda x: int(x))\n",
    "combined['MEMB_STA']=combined['MEMB_STA'].apply(lambda x: int(x))\n",
    "combined['NUM_EV']=combined['NUM_EV'].apply(lambda x: int(x))"
   ]
  },
  {
   "cell_type": "code",
   "execution_count": 23,
   "metadata": {
    "collapsed": false
   },
   "outputs": [
    {
     "data": {
      "text/plain": [
       "CID            int64\n",
       "POST_CODE     object\n",
       "TYPE_VOL       int64\n",
       "AVG_gift     float64\n",
       "NUM_gift       int64\n",
       "PRODUCT        int64\n",
       "NUM_P          int64\n",
       "MEMB_STA       int64\n",
       "NUM_EV         int64\n",
       "ccg           object\n",
       "lat          float64\n",
       "long         float64\n",
       "dtype: object"
      ]
     },
     "execution_count": 23,
     "metadata": {},
     "output_type": "execute_result"
    }
   ],
   "source": [
    "combined.dtypes"
   ]
  },
  {
   "cell_type": "code",
   "execution_count": 24,
   "metadata": {
    "collapsed": false
   },
   "outputs": [
    {
     "name": "stdout",
     "output_type": "stream",
     "text": [
      "(742707, 12)\n",
      "(254L,)\n"
     ]
    },
    {
     "data": {
      "text/html": [
       "<div>\n",
       "<table border=\"1\" class=\"dataframe\">\n",
       "  <thead>\n",
       "    <tr style=\"text-align: right;\">\n",
       "      <th></th>\n",
       "      <th>ccg</th>\n",
       "      <th>num_active_vol</th>\n",
       "    </tr>\n",
       "  </thead>\n",
       "  <tbody>\n",
       "    <tr>\n",
       "      <th>0</th>\n",
       "      <td>E38000001</td>\n",
       "      <td>26</td>\n",
       "    </tr>\n",
       "    <tr>\n",
       "      <th>1</th>\n",
       "      <td>E38000002</td>\n",
       "      <td>49</td>\n",
       "    </tr>\n",
       "    <tr>\n",
       "      <th>2</th>\n",
       "      <td>E38000003</td>\n",
       "      <td>332</td>\n",
       "    </tr>\n",
       "    <tr>\n",
       "      <th>3</th>\n",
       "      <td>E38000004</td>\n",
       "      <td>510</td>\n",
       "    </tr>\n",
       "    <tr>\n",
       "      <th>4</th>\n",
       "      <td>E38000005</td>\n",
       "      <td>3306</td>\n",
       "    </tr>\n",
       "  </tbody>\n",
       "</table>\n",
       "</div>"
      ],
      "text/plain": [
       "         ccg  num_active_vol\n",
       "0  E38000001              26\n",
       "1  E38000002              49\n",
       "2  E38000003             332\n",
       "3  E38000004             510\n",
       "4  E38000005            3306"
      ]
     },
     "execution_count": 24,
     "metadata": {},
     "output_type": "execute_result"
    }
   ],
   "source": [
    "df_aus=combined#[combined['PRODUCT'] !=0]\n",
    "print(df_aus.shape)\n",
    "import create_hist_mod as ch\n",
    "#prova= combined.groupby('ccg')['PRODUCT'].transform(pd.Series.value_counts)\n",
    "series_aus=ch.count_unique_n1\\\n",
    "(df_aus,n1='ccg')\n",
    "print(series_aus.shape)\n",
    "#print(type(prova))\n",
    "num_active_vol=pd.DataFrame(dict(num_active_vol =series_aus)).reset_index()\n",
    "num_active_vol.head(5)"
   ]
  },
  {
   "cell_type": "code",
   "execution_count": 38,
   "metadata": {
    "collapsed": false
   },
   "outputs": [
    {
     "data": {
      "text/plain": [
       "ccg\n",
       "E38000001      165.0\n",
       "E38000002      241.0\n",
       "E38000003     1022.0\n",
       "E38000004     1884.0\n",
       "E38000005    15220.0\n",
       "Name: NUM_gift, dtype: float64"
      ]
     },
     "execution_count": 38,
     "metadata": {},
     "output_type": "execute_result"
    }
   ],
   "source": [
    "aaa=ch.mean_n2_on_unique_n1\\\n",
    "(combined,n1='ccg',n2='NUM_gift')  \n",
    "#import numpy as np\n",
    "#aaa=population.pivot_table(index=\"ccg\", values=\"TYPE_VOL\",aggfunc='count')\n",
    "aaa.head()"
   ]
  },
  {
   "cell_type": "code",
   "execution_count": 26,
   "metadata": {
    "collapsed": false
   },
   "outputs": [],
   "source": [
    "population=pd.read_csv('PDpop_ccg.csv',sep=\";\")"
   ]
  },
  {
   "cell_type": "code",
   "execution_count": 27,
   "metadata": {
    "collapsed": false
   },
   "outputs": [
    {
     "data": {
      "text/html": [
       "<div>\n",
       "<table border=\"1\" class=\"dataframe\">\n",
       "  <thead>\n",
       "    <tr style=\"text-align: right;\">\n",
       "      <th></th>\n",
       "      <th>CCG</th>\n",
       "      <th>CCGNameClean</th>\n",
       "      <th>CCGNamePK</th>\n",
       "      <th>TotPDEst</th>\n",
       "      <th>Age029</th>\n",
       "      <th>Age3039</th>\n",
       "      <th>Age4049</th>\n",
       "      <th>Age5059</th>\n",
       "      <th>Age6069</th>\n",
       "      <th>Age7079</th>\n",
       "      <th>Age80plus</th>\n",
       "      <th>TotPop</th>\n",
       "    </tr>\n",
       "  </thead>\n",
       "  <tbody>\n",
       "    <tr>\n",
       "      <th>0</th>\n",
       "      <td>E38000001</td>\n",
       "      <td>NHS Airedale, Wharfedale and Craven</td>\n",
       "      <td>NHS Airedale, Wharfedale and Craven</td>\n",
       "      <td>364.0</td>\n",
       "      <td>0.0</td>\n",
       "      <td>2.0</td>\n",
       "      <td>3.0</td>\n",
       "      <td>21.0</td>\n",
       "      <td>69.0</td>\n",
       "      <td>137.0</td>\n",
       "      <td>132.0</td>\n",
       "      <td>160613.0</td>\n",
       "    </tr>\n",
       "    <tr>\n",
       "      <th>1</th>\n",
       "      <td>E38000002</td>\n",
       "      <td>NHS Ashford</td>\n",
       "      <td>NHS Ashford</td>\n",
       "      <td>283.0</td>\n",
       "      <td>0.0</td>\n",
       "      <td>1.0</td>\n",
       "      <td>2.0</td>\n",
       "      <td>16.0</td>\n",
       "      <td>54.0</td>\n",
       "      <td>107.0</td>\n",
       "      <td>103.0</td>\n",
       "      <td>124045.0</td>\n",
       "    </tr>\n",
       "    <tr>\n",
       "      <th>2</th>\n",
       "      <td>E38000003</td>\n",
       "      <td>NHS Aylesbury Vale</td>\n",
       "      <td>NHS Aylesbury Vale</td>\n",
       "      <td>466.0</td>\n",
       "      <td>0.0</td>\n",
       "      <td>3.0</td>\n",
       "      <td>4.0</td>\n",
       "      <td>27.0</td>\n",
       "      <td>88.0</td>\n",
       "      <td>175.0</td>\n",
       "      <td>169.0</td>\n",
       "      <td>202445.0</td>\n",
       "    </tr>\n",
       "    <tr>\n",
       "      <th>3</th>\n",
       "      <td>E38000004</td>\n",
       "      <td>NHS Barking and Dagenham</td>\n",
       "      <td>NHS Barking &amp; Dagenham</td>\n",
       "      <td>455.0</td>\n",
       "      <td>0.0</td>\n",
       "      <td>3.0</td>\n",
       "      <td>4.0</td>\n",
       "      <td>26.0</td>\n",
       "      <td>86.0</td>\n",
       "      <td>171.0</td>\n",
       "      <td>165.0</td>\n",
       "      <td>202358.0</td>\n",
       "    </tr>\n",
       "    <tr>\n",
       "      <th>4</th>\n",
       "      <td>E38000005</td>\n",
       "      <td>NHS Barnet</td>\n",
       "      <td>NHS Barnet</td>\n",
       "      <td>860.0</td>\n",
       "      <td>0.0</td>\n",
       "      <td>5.0</td>\n",
       "      <td>8.0</td>\n",
       "      <td>48.0</td>\n",
       "      <td>163.0</td>\n",
       "      <td>324.0</td>\n",
       "      <td>312.0</td>\n",
       "      <td>381776.0</td>\n",
       "    </tr>\n",
       "  </tbody>\n",
       "</table>\n",
       "</div>"
      ],
      "text/plain": [
       "         CCG                         CCGNameClean  \\\n",
       "0  E38000001  NHS Airedale, Wharfedale and Craven   \n",
       "1  E38000002                          NHS Ashford   \n",
       "2  E38000003                   NHS Aylesbury Vale   \n",
       "3  E38000004             NHS Barking and Dagenham   \n",
       "4  E38000005                           NHS Barnet   \n",
       "\n",
       "                              CCGNamePK  TotPDEst  Age029  Age3039  Age4049  \\\n",
       "0  NHS Airedale, Wharfedale and Craven      364.0     0.0      2.0      3.0   \n",
       "1                          NHS Ashford      283.0     0.0      1.0      2.0   \n",
       "2                   NHS Aylesbury Vale      466.0     0.0      3.0      4.0   \n",
       "3               NHS Barking & Dagenham      455.0     0.0      3.0      4.0   \n",
       "4                           NHS Barnet      860.0     0.0      5.0      8.0   \n",
       "\n",
       "   Age5059  Age6069  Age7079  Age80plus    TotPop  \n",
       "0     21.0     69.0    137.0      132.0  160613.0  \n",
       "1     16.0     54.0    107.0      103.0  124045.0  \n",
       "2     27.0     88.0    175.0      169.0  202445.0  \n",
       "3     26.0     86.0    171.0      165.0  202358.0  \n",
       "4     48.0    163.0    324.0      312.0  381776.0  "
      ]
     },
     "execution_count": 27,
     "metadata": {},
     "output_type": "execute_result"
    }
   ],
   "source": [
    "\n",
    "del population['Unnamed: 12']\n",
    "del population['Unnamed: 13']\n",
    "population.head()"
   ]
  },
  {
   "cell_type": "code",
   "execution_count": 28,
   "metadata": {
    "collapsed": false
   },
   "outputs": [
    {
     "data": {
      "text/plain": [
       "(238, 12)"
      ]
     },
     "execution_count": 28,
     "metadata": {},
     "output_type": "execute_result"
    }
   ],
   "source": [
    "population.shape"
   ]
  },
  {
   "cell_type": "code",
   "execution_count": 29,
   "metadata": {
    "collapsed": false
   },
   "outputs": [
    {
     "data": {
      "text/plain": [
       "ccg              object\n",
       "CCGNameClean     object\n",
       "CCGNamePK        object\n",
       "TotPDEst        float64\n",
       "Age029          float64\n",
       "Age3039         float64\n",
       "Age4049         float64\n",
       "Age5059         float64\n",
       "Age6069         float64\n",
       "Age7079         float64\n",
       "Age80plus       float64\n",
       "TotPop          float64\n",
       "dtype: object"
      ]
     },
     "execution_count": 29,
     "metadata": {},
     "output_type": "execute_result"
    }
   ],
   "source": [
    "population=population.rename(columns={'CCG': 'ccg'})\n",
    "population.dtypes"
   ]
  },
  {
   "cell_type": "code",
   "execution_count": 30,
   "metadata": {
    "collapsed": false
   },
   "outputs": [],
   "source": [
    "population = population.merge(num_active_vol,\\\n",
    "        on='ccg', how=\"left\")"
   ]
  },
  {
   "cell_type": "code",
   "execution_count": null,
   "metadata": {
    "collapsed": false
   },
   "outputs": [],
   "source": []
  },
  {
   "cell_type": "code",
   "execution_count": 31,
   "metadata": {
    "collapsed": false
   },
   "outputs": [],
   "source": [
    "population['num_active_vol']=population['num_active_vol'].fillna(0)"
   ]
  },
  {
   "cell_type": "code",
   "execution_count": 32,
   "metadata": {
    "collapsed": false
   },
   "outputs": [
    {
     "data": {
      "text/html": [
       "<div>\n",
       "<table border=\"1\" class=\"dataframe\">\n",
       "  <thead>\n",
       "    <tr style=\"text-align: right;\">\n",
       "      <th></th>\n",
       "      <th>ccg</th>\n",
       "      <th>CCGNameClean</th>\n",
       "      <th>CCGNamePK</th>\n",
       "      <th>TotPDEst</th>\n",
       "      <th>Age029</th>\n",
       "      <th>Age3039</th>\n",
       "      <th>Age4049</th>\n",
       "      <th>Age5059</th>\n",
       "      <th>Age6069</th>\n",
       "      <th>Age7079</th>\n",
       "      <th>Age80plus</th>\n",
       "      <th>TotPop</th>\n",
       "      <th>num_active_vol</th>\n",
       "    </tr>\n",
       "  </thead>\n",
       "  <tbody>\n",
       "    <tr>\n",
       "      <th>0</th>\n",
       "      <td>E38000001</td>\n",
       "      <td>NHS Airedale, Wharfedale and Craven</td>\n",
       "      <td>NHS Airedale, Wharfedale and Craven</td>\n",
       "      <td>364.0</td>\n",
       "      <td>0.0</td>\n",
       "      <td>2.0</td>\n",
       "      <td>3.0</td>\n",
       "      <td>21.0</td>\n",
       "      <td>69.0</td>\n",
       "      <td>137.0</td>\n",
       "      <td>132.0</td>\n",
       "      <td>160613.0</td>\n",
       "      <td>26.0</td>\n",
       "    </tr>\n",
       "    <tr>\n",
       "      <th>1</th>\n",
       "      <td>E38000002</td>\n",
       "      <td>NHS Ashford</td>\n",
       "      <td>NHS Ashford</td>\n",
       "      <td>283.0</td>\n",
       "      <td>0.0</td>\n",
       "      <td>1.0</td>\n",
       "      <td>2.0</td>\n",
       "      <td>16.0</td>\n",
       "      <td>54.0</td>\n",
       "      <td>107.0</td>\n",
       "      <td>103.0</td>\n",
       "      <td>124045.0</td>\n",
       "      <td>49.0</td>\n",
       "    </tr>\n",
       "    <tr>\n",
       "      <th>2</th>\n",
       "      <td>E38000003</td>\n",
       "      <td>NHS Aylesbury Vale</td>\n",
       "      <td>NHS Aylesbury Vale</td>\n",
       "      <td>466.0</td>\n",
       "      <td>0.0</td>\n",
       "      <td>3.0</td>\n",
       "      <td>4.0</td>\n",
       "      <td>27.0</td>\n",
       "      <td>88.0</td>\n",
       "      <td>175.0</td>\n",
       "      <td>169.0</td>\n",
       "      <td>202445.0</td>\n",
       "      <td>332.0</td>\n",
       "    </tr>\n",
       "    <tr>\n",
       "      <th>3</th>\n",
       "      <td>E38000004</td>\n",
       "      <td>NHS Barking and Dagenham</td>\n",
       "      <td>NHS Barking &amp; Dagenham</td>\n",
       "      <td>455.0</td>\n",
       "      <td>0.0</td>\n",
       "      <td>3.0</td>\n",
       "      <td>4.0</td>\n",
       "      <td>26.0</td>\n",
       "      <td>86.0</td>\n",
       "      <td>171.0</td>\n",
       "      <td>165.0</td>\n",
       "      <td>202358.0</td>\n",
       "      <td>510.0</td>\n",
       "    </tr>\n",
       "    <tr>\n",
       "      <th>4</th>\n",
       "      <td>E38000005</td>\n",
       "      <td>NHS Barnet</td>\n",
       "      <td>NHS Barnet</td>\n",
       "      <td>860.0</td>\n",
       "      <td>0.0</td>\n",
       "      <td>5.0</td>\n",
       "      <td>8.0</td>\n",
       "      <td>48.0</td>\n",
       "      <td>163.0</td>\n",
       "      <td>324.0</td>\n",
       "      <td>312.0</td>\n",
       "      <td>381776.0</td>\n",
       "      <td>3306.0</td>\n",
       "    </tr>\n",
       "  </tbody>\n",
       "</table>\n",
       "</div>"
      ],
      "text/plain": [
       "         ccg                         CCGNameClean  \\\n",
       "0  E38000001  NHS Airedale, Wharfedale and Craven   \n",
       "1  E38000002                          NHS Ashford   \n",
       "2  E38000003                   NHS Aylesbury Vale   \n",
       "3  E38000004             NHS Barking and Dagenham   \n",
       "4  E38000005                           NHS Barnet   \n",
       "\n",
       "                              CCGNamePK  TotPDEst  Age029  Age3039  Age4049  \\\n",
       "0  NHS Airedale, Wharfedale and Craven      364.0     0.0      2.0      3.0   \n",
       "1                          NHS Ashford      283.0     0.0      1.0      2.0   \n",
       "2                   NHS Aylesbury Vale      466.0     0.0      3.0      4.0   \n",
       "3               NHS Barking & Dagenham      455.0     0.0      3.0      4.0   \n",
       "4                           NHS Barnet      860.0     0.0      5.0      8.0   \n",
       "\n",
       "   Age5059  Age6069  Age7079  Age80plus    TotPop  num_active_vol  \n",
       "0     21.0     69.0    137.0      132.0  160613.0            26.0  \n",
       "1     16.0     54.0    107.0      103.0  124045.0            49.0  \n",
       "2     27.0     88.0    175.0      169.0  202445.0           332.0  \n",
       "3     26.0     86.0    171.0      165.0  202358.0           510.0  \n",
       "4     48.0    163.0    324.0      312.0  381776.0          3306.0  "
      ]
     },
     "execution_count": 32,
     "metadata": {},
     "output_type": "execute_result"
    }
   ],
   "source": [
    "population.head()"
   ]
  },
  {
   "cell_type": "code",
   "execution_count": 33,
   "metadata": {
    "collapsed": false
   },
   "outputs": [
    {
     "data": {
      "text/plain": [
       "ccg                object\n",
       "CCGNameClean       object\n",
       "CCGNamePK          object\n",
       "TotPDEst          float64\n",
       "Age029            float64\n",
       "Age3039           float64\n",
       "Age4049           float64\n",
       "Age5059           float64\n",
       "Age6069           float64\n",
       "Age7079           float64\n",
       "Age80plus         float64\n",
       "TotPop            float64\n",
       "num_active_vol    float64\n",
       "dtype: object"
      ]
     },
     "execution_count": 33,
     "metadata": {},
     "output_type": "execute_result"
    }
   ],
   "source": [
    "population.dtypes"
   ]
  },
  {
   "cell_type": "code",
   "execution_count": 34,
   "metadata": {
    "collapsed": false
   },
   "outputs": [
    {
     "name": "stdout",
     "output_type": "stream",
     "text": [
      "3\n"
     ]
    }
   ],
   "source": [
    "n_null = pd.isnull(population[\"TotPDEst\"])\n",
    "n_null_true=n_null[n_null==True]\n",
    "null_count = len(n_null_true)\n",
    "print(null_count)\n",
    "population = population.dropna(subset=[\"TotPDEst\"])"
   ]
  },
  {
   "cell_type": "code",
   "execution_count": 35,
   "metadata": {
    "collapsed": false
   },
   "outputs": [
    {
     "data": {
      "text/plain": [
       "<matplotlib.collections.PathCollection at 0x213a4eb8>"
      ]
     },
     "execution_count": 35,
     "metadata": {},
     "output_type": "execute_result"
    },
    {
     "data": {
      "image/png": "[encoded data removed]",
      "text/plain": [
       "<matplotlib.figure.Figure at 0x212c2ef0>"
      ]
     },
     "metadata": {},
     "output_type": "display_data"
    }
   ],
   "source": [
    "%matplotlib inline\n",
    "import matplotlib.pyplot as plt\n",
    "plt.scatter(population['Age80plus'],population['num_active_vol'])"
   ]
  },
  {
   "cell_type": "code",
   "execution_count": 36,
   "metadata": {
    "collapsed": false
   },
   "outputs": [
    {
     "name": "stdout",
     "output_type": "stream",
     "text": [
      "('correlation_coefficent', 0.47600478309039101)\n"
     ]
    }
   ],
   "source": [
    "from scipy.stats.stats import pearsonr\n",
    "r, p_value = pearsonr(population['Age80plus'],population['num_active_vol'])\n",
    "print('correlation_coefficent', r)"
   ]
  },
  {
   "cell_type": "code",
   "execution_count": 37,
   "metadata": {
    "collapsed": false
   },
   "outputs": [
    {
     "data": {
      "text/plain": [
       "0       26.0\n",
       "1       49.0\n",
       "2      332.0\n",
       "3      510.0\n",
       "4     3306.0\n",
       "5     1573.0\n",
       "6      196.0\n",
       "7      427.0\n",
       "8     2500.0\n",
       "9     1669.0\n",
       "10    1515.0\n",
       "11    5213.0\n",
       "12    1411.0\n",
       "13     785.0\n",
       "14     913.0\n",
       "15    2309.0\n",
       "16     501.0\n",
       "17     155.0\n",
       "18     694.0\n",
       "19    1451.0\n",
       "20    3213.0\n",
       "21    4050.0\n",
       "22    5254.0\n",
       "23    1673.0\n",
       "24    2067.0\n",
       "25    6575.0\n",
       "26    2613.0\n",
       "27     156.0\n",
       "28    2053.0\n",
       "29    2164.0\n",
       "30    1615.0\n",
       "31     797.0\n",
       "32    3605.0\n",
       "33    1251.0\n",
       "34     509.0\n",
       "35     153.0\n",
       "36       3.0\n",
       "37    2653.0\n",
       "38       8.0\n",
       "39    3438.0\n",
       "40    2018.0\n",
       "41     994.0\n",
       "42    1839.0\n",
       "43    1527.0\n",
       "44    4904.0\n",
       "45    2617.0\n",
       "46     724.0\n",
       "47    1170.0\n",
       "48    5100.0\n",
       "49    1828.0\n",
       "Name: num_active_vol, dtype: float64"
      ]
     },
     "execution_count": 37,
     "metadata": {},
     "output_type": "execute_result"
    }
   ],
   "source": [
    "population['num_active_vol'].head(50)"
   ]
  },
  {
   "cell_type": "code",
   "execution_count": null,
   "metadata": {
    "collapsed": true
   },
   "outputs": [],
   "source": []
  }
 ],
 "metadata": {
  "kernelspec": {
   "display_name": "Python 2",
   "language": "python",
   "name": "python2"
  },
  "language_info": {
   "codemirror_mode": {
    "name": "ipython",
    "version": 2
   },
   "file_extension": ".py",
   "mimetype": "text/x-python",
   "name": "python",
   "nbconvert_exporter": "python",
   "pygments_lexer": "ipython2",
   "version": "2.7.11"
  }
 },
 "nbformat": 4,
 "nbformat_minor": 0
}
